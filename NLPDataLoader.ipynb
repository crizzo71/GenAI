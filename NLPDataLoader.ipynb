{
  "nbformat": 4,
  "nbformat_minor": 0,
  "metadata": {
    "colab": {
      "provenance": [],
      "authorship_tag": "ABX9TyPnWokW35+ShDPC7DW5Srsb",
      "include_colab_link": true
    },
    "kernelspec": {
      "name": "python3",
      "display_name": "Python 3"
    },
    "language_info": {
      "name": "python"
    }
  },
  "cells": [
    {
      "cell_type": "markdown",
      "metadata": {
        "id": "view-in-github",
        "colab_type": "text"
      },
      "source": [
        "<a href=\"https://colab.research.google.com/github/crizzo71/GenAI/blob/main/NLPDataLoader.ipynb\" target=\"_parent\"><img src=\"https://colab.research.google.com/assets/colab-badge.svg\" alt=\"Open In Colab\"/></a>"
      ]
    },
    {
      "cell_type": "code",
      "execution_count": null,
      "metadata": {
        "collapsed": true,
        "id": "XuE6DTOatl3Y"
      },
      "outputs": [],
      "source": [
        "## Installing required libraries\n",
        "!pip install nltk\n",
        "!pip install transformers==4.42.1\n",
        "!pip install sentencepiece\n",
        "!pip install spacy\n",
        "!pip install numpy==1.26.0\n",
        "!python -m spacy download en_core_web_sm\n",
        "!python -m spacy download de_core_news_sm\n",
        "!pip install torch==2.2.2 torchtext==0.17.2\n",
        "!pip install torchdata==0.7.1\n",
        "!pip install portalocker\n",
        "!pip install numpy pandas\n",
        "!pip install numpy scikit-learn"
      ]
    },
    {
      "source": [
        "## Installing required libraries\n",
        "!pip install nltk\n",
        "!pip install transformers==4.42.1\n",
        "!pip install sentencepiece\n",
        "!pip install spacy\n",
        "!pip install numpy==1.26.0\n",
        "!python -m spacy download en_core_web_sm\n",
        "!python -m spacy download de_core_news_sm\n",
        "!pip install torch==2.2.2 torchtext==0.17.2\n",
        "!pip install torchdata==0.7.1\n",
        "!pip install portalocker\n",
        "# Install pandas and scikit-learn after numpy\n",
        "!pip install pandas\n",
        "!pip install scikit-learn"
      ],
      "cell_type": "code",
      "metadata": {
        "id": "Og0WnpURwCaa",
        "collapsed": true
      },
      "execution_count": null,
      "outputs": []
    },
    {
      "cell_type": "code",
      "source": [],
      "metadata": {
        "id": "YDpH7bmAInIx"
      },
      "execution_count": null,
      "outputs": []
    },
    {
      "cell_type": "code",
      "source": [
        "import torchtext\n",
        "print(torchtext.__version__)"
      ],
      "metadata": {
        "id": "a6pKpauHukcX"
      },
      "execution_count": null,
      "outputs": []
    },
    {
      "cell_type": "code",
      "source": [
        "import pandas as pd\n",
        "from torch.utils.data import Dataset, DataLoader\n",
        "from torchtext.data.utils import get_tokenizer\n",
        "from torchtext.vocab import build_vocab_from_iterator\n",
        "from torchtext.datasets import multi30k, Multi30k\n",
        "from typing import Iterable, List\n",
        "from torch.nn.utils.rnn import pad_sequence\n",
        "from torch.utils.data import DataLoader\n",
        "from torchdata.datapipes.iter import IterableWrapper, Mapper\n",
        "import torchtext\n",
        "\n",
        "import torch\n",
        "import torch.nn as nn\n",
        "import torch.optim as optim\n",
        "\n",
        "import numpy as np\n",
        "import random"
      ],
      "metadata": {
        "id": "FgtRSOldzWF_"
      },
      "execution_count": 2,
      "outputs": []
    },
    {
      "cell_type": "code",
      "source": [
        "#set-up custom data set and data loader in PyTorch\n",
        "\n",
        "\n",
        "sentences = [\n",
        "    \"If you want to know what a man's like, take a good look at how he treats his inferiors, not his equals.\",\n",
        "    \"Fame's a fickle friend, Harry.\",\n",
        "    \"It is our choices, Harry, that show what we truly are, far more than our abilities.\",\n",
        "    \"Soon we must all face the choice between what is right and what is easy.\",\n",
        "    \"Youth can not know how age thinks and feels. But old men are guilty if they forget what it was to be young.\",\n",
        "    \"You are awesome!\"]\n",
        "\n",
        "# Define a custom dataset\n",
        "class CustomDataset(Dataset):\n",
        "    def __init__(self, sentences):\n",
        "        self.sentences = sentences\n",
        "\n",
        "    def __len__(self):\n",
        "        return len(self.sentences)\n",
        "\n",
        "    def __getitem__(self, idx):\n",
        "        return self.sentences[idx]\n",
        "\n",
        "# Create an instance of your custom dataset\n",
        "custom_dataset = CustomDataset(sentences)\n",
        "\n",
        "# Define batch size\n",
        "batch_size = 2\n",
        "\n",
        "# Create a DataLoader\n",
        "dataloader = DataLoader(custom_dataset, batch_size=batch_size, shuffle=True)\n",
        "\n",
        "# Iterate through the DataLoader\n",
        "for batch in dataloader:\n",
        "    print(batch)"
      ],
      "metadata": {
        "id": "gD6-f1ZiwNGf"
      },
      "execution_count": null,
      "outputs": []
    },
    {
      "cell_type": "markdown",
      "source": [],
      "metadata": {
        "id": "eFi-TMP6zlk6"
      }
    },
    {
      "cell_type": "code",
      "source": [
        "\n",
        "#Create an instance of your custom data set\n",
        "custom_dataset = CustomDataset(sentences, tokenizer, vocab)\n",
        "\n",
        "# Define batch size\n",
        "batch_size = 2\n",
        "\n",
        "# Create a data loader\n",
        "#dataloader = DataLoader(custom_dataset, batch_size=batch_size, shuffle=True)\n",
        "\n",
        "# Iterate through the data loader\n",
        "for batch in dataloader:\n",
        "    print(batch)"
      ],
      "metadata": {
        "id": "PX9tZpTA040a"
      },
      "execution_count": null,
      "outputs": []
    },
    {
      "cell_type": "code",
      "source": [
        "#\n",
        "\n",
        "sentences = [\n",
        "    \"If you want to know what a man's like, take a good look at how he treats his inferiors, not his equals.\",\n",
        "    \"Fame's a fickle friend, Harry.\",\n",
        "    \"It is our choices, Harry, that show what we truly are, far more than our abilities.\",\n",
        "    \"Soon we must all face the choice between what is right and what is easy.\",\n",
        "    \"Youth can not know how age thinks and feels. But old men are guilty if they forget what it was to be young.\",\n",
        "    \"You are awesome!\"\n",
        "]\n",
        "\n",
        "# Define a custom data set\n",
        "class CustomDataset(Dataset):\n",
        "    def __init__(self, sentences, tokenizer, vocab):\n",
        "        self.sentences = sentences\n",
        "        self.tokenizer = tokenizer\n",
        "        self.vocab = vocab\n",
        "\n",
        "    def __len__(self):\n",
        "        return len(self.sentences)\n",
        "\n",
        "    def __getitem__(self, idx):\n",
        "        tokens = self.tokenizer(self.sentences[idx])\n",
        "        # Convert tokens to tensor indices using vocab\n",
        "        tensor_indices = [self.vocab[token] for token in tokens]\n",
        "        return torch.tensor(tensor_indices)\n",
        "\n",
        "# Tokenizer\n",
        "tokenizer = get_tokenizer(\"basic_english\")\n",
        "\n",
        "# Build vocabulary\n",
        "vocab = build_vocab_from_iterator(map(tokenizer, sentences))\n",
        "\n",
        "# Create an instance of your custom data set\n",
        "custom_dataset = CustomDataset(sentences, tokenizer, vocab)\n",
        "\n",
        "print(\"Custom Dataset Length:\", len(custom_dataset))\n",
        "print(\"Sample Items:\")\n",
        "for i in range(6):\n",
        "    sample_item = custom_dataset[i]\n",
        "    print(f\"Item {i + 1}: {sample_item}\")"
      ],
      "metadata": {
        "id": "HrZ4afPLzcwX"
      },
      "execution_count": null,
      "outputs": []
    },
    {
      "cell_type": "code",
      "source": [
        "#Creating tensors for custom data set\n",
        "sentences = [\n",
        "    \"If you want to know what a man's like, take a good look at how he treats his inferiors, not his equals.\",\n",
        "    \"Fame's a fickle friend, Harry.\",\n",
        "    \"It is our choices, Harry, that show what we truly are, far more than our abilities.\",\n",
        "    \"Soon we must all face the choice between what is right and what is easy.\",\n",
        "    \"Youth can not know how age thinks and feels. But old men are guilty if they forget what it was to be young.\",\n",
        "    \"You are awesome!\"\n",
        "]\n",
        "\n",
        "# Define a custom data set\n",
        "class CustomDataset(Dataset):\n",
        "    def __init__(self, sentences, tokenizer, vocab):\n",
        "        self.sentences = sentences\n",
        "        self.tokenizer = tokenizer\n",
        "        self.vocab = vocab\n",
        "\n",
        "    def __len__(self):\n",
        "        return len(self.sentences)\n",
        "\n",
        "    def __getitem__(self, idx):\n",
        "        tokens = self.tokenizer(self.sentences[idx])\n",
        "        # Convert tokens to tensor indices using vocab\n",
        "        tensor_indices = [self.vocab[token] for token in tokens]\n",
        "        return torch.tensor(tensor_indices)\n",
        "\n",
        "# Tokenizer\n",
        "tokenizer = get_tokenizer(\"basic_english\")\n",
        "\n",
        "# Build vocabulary\n",
        "vocab = build_vocab_from_iterator(map(tokenizer, sentences))\n",
        "\n",
        "# Create an instance of your custom data set\n",
        "custom_dataset = CustomDataset(sentences, tokenizer, vocab)\n",
        "\n",
        "print(\"Custom Dataset Length:\", len(custom_dataset))\n",
        "print(\"Sample Items:\")\n",
        "for i in range(6):\n",
        "    sample_item = custom_dataset[i]\n",
        "    print(f\"Item {i + 1}: {sample_item}\")"
      ],
      "metadata": {
        "id": "6ReStb_i2XWZ"
      },
      "execution_count": null,
      "outputs": []
    },
    {
      "cell_type": "code",
      "source": [
        "# Create a custom collate function\n",
        "def collate_fn(batch):\n",
        "    # Pad sequences within the batch to have equal lengths\n",
        "    padded_batch = pad_sequence(batch, batch_first=True, padding_value=0)\n",
        "    return padded_batch"
      ],
      "metadata": {
        "id": "hbQMVM4e2mzm"
      },
      "execution_count": 7,
      "outputs": []
    },
    {
      "cell_type": "code",
      "source": [
        "# Create a data loader with the custom collate function with batch_first=True,\n",
        "dataloader = DataLoader(custom_dataset, batch_size=batch_size, collate_fn=collate_fn)\n",
        "\n",
        "# Iterate through the data loader\n",
        "for batch in dataloader:\n",
        "    for row in batch:\n",
        "        for idx in row:\n",
        "            words = [vocab.get_itos()[idx] for idx in row]\n",
        "        print(words)\n",
        ""
      ],
      "metadata": {
        "id": "KZaQOr0uJrhI"
      },
      "execution_count": null,
      "outputs": []
    },
    {
      "cell_type": "code",
      "source": [
        "# Create a custom collate function\n",
        "def collate_fn_bfFALSE(batch):\n",
        "    # Pad sequences within the batch to have equal lengths\n",
        "    padded_batch = pad_sequence(batch, padding_value=0)\n",
        "    return padded_batch"
      ],
      "metadata": {
        "id": "5IEOGO2CJ6io"
      },
      "execution_count": 9,
      "outputs": []
    },
    {
      "cell_type": "code",
      "source": [
        "# Create a data loader with the custom collate function with batch_first=True,\n",
        "dataloader_bfFALSE = DataLoader(custom_dataset, batch_size=batch_size, collate_fn=collate_fn_bfFALSE)\n",
        "\n",
        "# Iterate through the data loader\n",
        "for seq in dataloader_bfFALSE:\n",
        "    for row in seq:\n",
        "        #print(row)\n",
        "        words = [vocab.get_itos()[idx] for idx in row]\n",
        "        print(words)"
      ],
      "metadata": {
        "id": "y_3S4_lTJ9k4"
      },
      "execution_count": null,
      "outputs": []
    },
    {
      "cell_type": "code",
      "source": [
        "# Iterate through the data loader with batch_first = TRUE\n",
        "for batch in dataloader:\n",
        "    print(batch)\n",
        "    print(\"Length of sequences in the batch:\",batch.shape[1])"
      ],
      "metadata": {
        "id": "6kvuxUxyKKrI"
      },
      "execution_count": null,
      "outputs": []
    },
    {
      "cell_type": "code",
      "source": [
        "# Define a custom data set\n",
        "class CustomDataset(Dataset):\n",
        "    def __init__(self, sentences):\n",
        "        self.sentences = sentences\n",
        "\n",
        "    def __len__(self):\n",
        "        return len(self.sentences)\n",
        "\n",
        "    def __getitem__(self, idx):\n",
        "        return self.sentences[idx]"
      ],
      "metadata": {
        "id": "WllqcP0tKdBV"
      },
      "execution_count": 12,
      "outputs": []
    },
    {
      "cell_type": "code",
      "source": [
        "custom_dataset=CustomDataset(sentences)"
      ],
      "metadata": {
        "id": "dYd1W1yMKt2Q"
      },
      "execution_count": 13,
      "outputs": []
    },
    {
      "cell_type": "code",
      "source": [
        "custom_dataset[0]\n"
      ],
      "metadata": {
        "id": "2ZFHC1JEKyoM"
      },
      "execution_count": null,
      "outputs": []
    },
    {
      "cell_type": "code",
      "source": [
        "def collate_fn(batch):\n",
        "    # Tokenize each sample in the batch using the specified tokenizer\n",
        "    tensor_batch = []\n",
        "    for sample in batch:\n",
        "        tokens = tokenizer(sample)\n",
        "        # Convert tokens to vocabulary indices and create a tensor for each sample\n",
        "        tensor_batch.append(torch.tensor([vocab[token] for token in tokens]))\n",
        "\n",
        "    # Pad sequences within the batch to have equal lengths using pad_sequence\n",
        "    # batch_first=True ensures that the tensors have shape (batch_size, max_sequence_length)\n",
        "    padded_batch = pad_sequence(tensor_batch, batch_first=True)\n",
        "\n",
        "    # Return the padded batch\n",
        "    return padded_batch"
      ],
      "metadata": {
        "id": "hLZ2oiQuLCZ8"
      },
      "execution_count": 17,
      "outputs": []
    },
    {
      "cell_type": "code",
      "source": [
        "# Create a data loader for the custom dataset\n",
        "dataloader = DataLoader(\n",
        "    dataset=custom_dataset,   # Custom PyTorch Dataset containing your data\n",
        "    batch_size=batch_size,     # Number of samples in each mini-batch\n",
        "    shuffle=True,              # Shuffle the data at the beginning of each epoch\n",
        "    collate_fn=collate_fn      # Custom collate function for processing batches\n",
        ")"
      ],
      "metadata": {
        "id": "tXKerA7WLH_s"
      },
      "execution_count": 18,
      "outputs": []
    },
    {
      "cell_type": "code",
      "source": [
        "# @title\n",
        "for batch in dataloader:\n",
        "    print(batch)\n",
        "    print(\"shape of sample\",len(batch))"
      ],
      "metadata": {
        "collapsed": true,
        "id": "98fspL1nLMms"
      },
      "execution_count": null,
      "outputs": []
    },
    {
      "source": [
        "import spacy\n",
        "import torch\n",
        "from torchtext.data.utils import get_tokenizer\n",
        "from torch.utils.data import DataLoader\n",
        "from torchtext.vocab import build_vocab_from_iterator\n",
        "from torch.nn.utils.rnn import pad_sequence\n",
        "\n",
        "\n",
        "\n",
        "\n",
        "def collate_fn_fr(batch):\n",
        "    # Pad sequences within the batch to have equal lengths\n",
        "    tensor_batch=[]\n",
        "    for sample in batch:\n",
        "        tokens = tokenizer(sample)\n",
        "        tensor_batch.append(torch.tensor([vocab[token] for token in tokens]))\n",
        "\n",
        "    padded_batch = pad_sequence(tensor_batch,batch_first=True)\n",
        "    return padded_batch\n",
        "\n",
        "# Build tokenizer\n",
        "tokenizer = get_tokenizer('spacy', language='fr_core_news_sm')\n",
        "\n",
        "# Build vocabulary\n",
        "vocab = build_vocab_from_iterator(map(tokenizer, corpus))\n",
        "\n",
        "# Sort sentences based on their length\n",
        "sorted_data = sorted(corpus, key=lambda x: len(tokenizer(x)))\n",
        "#print(sorted_data)\n",
        "dataloader = DataLoader(sorted_data, batch_size=4, shuffle=False, collate_fn=collate_fn_fr)\n",
        "for batch in dataloader:\n",
        "    print(batch)"
      ],
      "cell_type": "code",
      "metadata": {
        "colab": {
          "base_uri": "https://localhost:8080/"
        },
        "id": "r4_K7uFlP9r2",
        "outputId": "a3245352-8b9b-443a-937e-d53d41838a87"
      },
      "execution_count": 12,
      "outputs": [
        {
          "output_type": "stream",
          "name": "stdout",
          "text": [
            "tensor([[ 27,   2,   0],\n",
            "        [ 26,  45,   2],\n",
            "        [ 35,   8,   2],\n",
            "        [ 25, 101,   2]])\n",
            "tensor([[  1, 105,  41,   0],\n",
            "        [  1,   3,  76,   0],\n",
            "        [  1,   3,  82,   0],\n",
            "        [ 11,   4,  74,   2]])\n",
            "tensor([[ 28,   4,  10,   9,   0],\n",
            "        [ 38,  10, 107,   9,   0],\n",
            "        [ 12,  69,  51,  49,   0],\n",
            "        [  1,  16, 103,  17,   0]])\n",
            "tensor([[  1,   3,  14, 100,   0,   0],\n",
            "        [ 37,   4,  19,  92,  95,   7],\n",
            "        [ 33,  71, 122, 117,  52,   2],\n",
            "        [ 32,  85,  42,  80,  87,   0]])\n",
            "tensor([[ 30,  18,  19,  88,  21,   2,   0],\n",
            "        [ 31,  43,   8,  15,  57,  73,   0],\n",
            "        [ 36,  62,  90, 110,  60,  83,   0],\n",
            "        [ 34, 112, 104, 106, 108,  56,   0]])\n",
            "tensor([[ 11,   4, 111,  50,  68,   5,   9,   0],\n",
            "        [  1, 113,  55,   6,  86,  53,  47,   0],\n",
            "        [  1,   3,  98,   5, 116,  99,  66,   2],\n",
            "        [120,  97,  75,   4,   6,  93,  20,   7]])\n",
            "tensor([[  1,   3,  14,  20,  58,  44,   6,  72,   0,   0],\n",
            "        [  1,  63,  40,  13,  89,  67,  13,  79,   0,   0],\n",
            "        [  1,   3,  70,  46,  10,  81,  78,   5,  21,   0],\n",
            "        [ 12, 119,  39,   8,   5,  84,  59,  54, 115,   0]])\n",
            "tensor([[ 29,  24,  96, 109,  48,  61,  94,  18,   6, 118,  23,  65,   7],\n",
            "        [  1,   3,  64,  22,  77,  16,  91,  17, 114, 121,  15, 102,   0]])\n"
          ]
        }
      ]
    }
  ]
}